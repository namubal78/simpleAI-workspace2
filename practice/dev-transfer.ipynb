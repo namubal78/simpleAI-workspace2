{
 "cells": [
  {
   "cell_type": "code",
   "execution_count": null,
   "metadata": {},
   "outputs": [],
   "source": [
    "from sklearn.metrics import mean_squared_error\n",
    "from math import sqrt\n",
    "\n",
    "def RMSE(y_test, y_pred):\n",
    "    return sqrt(mean_squared_error(estimatedPrice_study, estimatedResult))\n",
    "\n",
    "## 판다스로 데이터 확인 ##\n",
    "import pandas as pd\n",
    "study = pd.read_csv('practice2.csv')\n",
    "print(study.shape)\n",
    "study\n",
    "\n",
    "## 독립 및 종속변수 설정 ##\n",
    "## basicAmount_study = study[['Basic Amount']]\n",
    "estimatedPrice_study = study[['Estimated Price']]\n",
    "## priceRange_study = study[['Price range']]\n",
    "## lowerBidRate_study = study[['Lower bid rate']]\n",
    "successfulBidAmount_study = study[['Successful bid amount']]\n",
    "\n",
    "## print(basicAmount_study.shape, estimatedPrice_study.shape, priceRange_study.shape, lowerBidRate_study.shape, successfulBidAmount_study.shape)\n",
    "print(estimatedPrice_study.shape, successfulBidAmount_study.shape)\n",
    "## print(basicAmount_study.head(2))\n",
    "print(estimatedPrice_study)\n",
    "## print(priceRange_study.head(2))\n",
    "## print(lowerBidRate_study.head(2))\n",
    "print(successfulBidAmount_study)\n",
    "\n",
    "#!pip install tensorflow\n",
    "# 모델을 생성합니다. \n",
    "import tensorflow as tf\n",
    "\n",
    "# 여기부터\n",
    "X = tf.keras.layers.Input(shape=[1])\n",
    "Y = tf.keras.layers.Dense(1)(X)\n",
    "model = tf.keras.models.Model(X, Y)\n",
    "model.compile(loss=\"mse\")\n",
    "# 여기까지 모델 설계 수정 필요\n",
    "\n",
    "# 모델에 데이터를 학습합니다. \n",
    "## model.fit(basicAmount_study, estimatedPrice_study, priceRange_study, lowerBidRate_study, successfulBidAmount_study, epochs=100, verbose=0)\n",
    "model.fit(estimatedPrice_study, successfulBidAmount_study, epochs=5000, verbose=0)\n",
    "weights = model.get_weights()\n",
    "print(weights)\n",
    "\n",
    "# 모델을 이용합니다. \n",
    "## model.predict(basicAmount_study.head(2), estimatedPrice_study.head(2), priceRange_study.head(2), lowerBidRate_study.head(2), successfulBidAmount_study.head(2))\n",
    "estimatedResult = model.predict(estimatedPrice_study)\n",
    "model.predict(estimatedPrice_study)\n",
    "print(estimatedResult)\n",
    "# print(f\"RMSE : {RMSE(estimatedPrice_study, estimatedResult)}\")\n"
   ]
  }
 ],
 "metadata": {
  "kernelspec": {
   "display_name": "base",
   "language": "python",
   "name": "python3"
  },
  "language_info": {
   "codemirror_mode": {
    "name": "ipython",
    "version": 3
   },
   "file_extension": ".py",
   "mimetype": "text/x-python",
   "name": "python",
   "nbconvert_exporter": "python",
   "pygments_lexer": "ipython3",
   "version": "3.10.9"
  },
  "orig_nbformat": 4
 },
 "nbformat": 4,
 "nbformat_minor": 2
}
